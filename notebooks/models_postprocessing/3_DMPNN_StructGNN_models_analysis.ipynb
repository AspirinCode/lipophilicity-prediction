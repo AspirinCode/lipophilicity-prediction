{
 "cells": [
  {
   "cell_type": "code",
   "execution_count": 1,
   "metadata": {},
   "outputs": [],
   "source": [
    "import pandas as pd\n",
    "import numpy as np\n",
    "import seaborn as sns\n",
    "import torch\n",
    "from scipy import stats\n",
    "from torch.nn.utils.rnn import pad_sequence\n",
    "from sklearn.neural_network import MLPRegressor\n",
    "from rdkit import Chem, DataStructs\n",
    "from rdkit.Chem import AllChem\n",
    "from sklearn.metrics import mean_squared_error, r2_score\n",
    "import time\n",
    "import os\n",
    "from tqdm import tqdm\n",
    "from scipy.stats import shapiro\n",
    "from scipy.stats import normaltest\n",
    "from scipy.stats import ttest_ind\n",
    "from scipy.stats import mannwhitneyu\n",
    "import seaborn as sns\n",
    "import matplotlib.pyplot as plt"
   ]
  },
  {
   "cell_type": "code",
   "execution_count": 2,
   "metadata": {},
   "outputs": [],
   "source": [
    "def create_statistics(vals):\n",
    "    values = vals.copy()\n",
    "    mols = [Chem.MolFromSmiles(x) for x in values[SMILES_COLUMN]]\n",
    "    \n",
    "    atom_count = [mol.GetNumAtoms() for mol in mols]\n",
    "    values['atom_count'] = pd.Series(atom_count)\n",
    "    \n",
    "    values['ring_count'] = pd.Series([mol.GetRingInfo().NumRings() for mol in mols])\n",
    "    \n",
    "    mol_atoms = [mol.GetAtoms() for mol in mols]\n",
    "    non_simple_atom_count = [sum((num.GetAtomicNum() not in [1, 6, 8, 7]) for num in m_atoms) for m_atoms in mol_atoms]\n",
    "    values['non_organogens_count'] = pd.Series(non_simple_atom_count)\n",
    "    \n",
    "    values['non_organogens_percent'] = values.non_organogens_count / values.atom_count *100\n",
    "    \n",
    "    benzene_smiles = 'C1=CC=CC=C1'\n",
    "    pattern = Chem.MolFromSmiles(benzene_smiles)\n",
    "    values['aromatic_count'] = pd.Series([len(mol.GetSubstructMatches(pattern)) for mol in mols])\n",
    "    \n",
    "    values['aromatic_rings_percent'] = values.aromatic_count / values.ring_count *100\n",
    "    values['aromatic_rings_percent'] = values['aromatic_rings_percent'].fillna(0)\n",
    "    \n",
    "    values['bond_count'] =  [len(mol.GetBonds()) for mol in mols]\n",
    "    values['aromatic_bond_count'] = [sum(bond.GetIsAromatic() for bond in mol.GetBonds()) for mol in mols]\n",
    "    values['aromatic_bond_percent'] = values.aromatic_bond_count / values.bond_count * 100\n",
    "    \n",
    "    values_list = [pd.Series(Chem.CanonicalRankAtoms(mol, breakTies=False)).value_counts() for mol in mols]\n",
    "    values['is_symmetric'] =  [(len(values) - 1 <= len(values[values % 2 == 0])) or (len(values) - 1 <= len(values[(values % 2 == 1) & (values > 1)])) for values in values_list]\n",
    "    \n",
    "    return values"
   ]
  },
  {
   "cell_type": "code",
   "execution_count": 3,
   "metadata": {},
   "outputs": [],
   "source": [
    "\n",
    "FILENAME = \"test_predictions.csv\"\n",
    "\n",
    "SMILES_COLUMN = 'smiles'\n",
    "ERROR_COLUMN = 'Squared Error'\n",
    "\n",
    "FOLDS= 5\n",
    "\n",
    "N_VALUES = 200"
   ]
  },
  {
   "cell_type": "markdown",
   "metadata": {},
   "source": [
    "# Calculate best and worst molecules statistics"
   ]
  },
  {
   "cell_type": "code",
   "execution_count": 6,
   "metadata": {},
   "outputs": [],
   "source": [
    "\n",
    "NUM_EXPS = [364, 365, 351, 352, 359, 368]"
   ]
  },
  {
   "cell_type": "code",
   "execution_count": 7,
   "metadata": {},
   "outputs": [
    {
     "name": "stderr",
     "output_type": "stream",
     "text": [
      "100%|██████████| 6/6 [13:44<00:00, 137.50s/it]"
     ]
    },
    {
     "name": "stdout",
     "output_type": "stream",
     "text": [
      "364\n",
      "DMPNN with rdkit 2d normalized wo MolLogP\n",
      "logP\n",
      "None\n",
      "\n",
      "logP_symmetric test RMSE  =  0.625 +/- 0.059\n",
      "logP_symmetric test R2  =  0.928 +/- 0.013\n",
      "logP_non-symmetric test RMSE  =  0.442 +/- 0.006\n",
      "logP_non-symmetric test R2  =  0.942 +/- 0.002\n",
      "logP_rmse  =  0.452 +/- 0.007\n",
      "logP_r2  =  0.941 +/- 0.001\n",
      "logP_atom_count  =  0.678 +/- 0.216\n",
      "logP_ring_count  =  0.562 +/- 0.233\n",
      "logP_non_organogens_count  =  0.458 +/- 0.278\n",
      "logP_non_organogens_percent  =  0.506 +/- 0.289\n",
      "logP_aromatic_count  =  0.489 +/- 0.325\n",
      "logP_aromatic_rings_percent  =  0.545 +/- 0.359\n",
      "logP_bond_count  =  0.0 +/- 0.0\n",
      "logP_aromatic_bond_count  =  0.055 +/- 0.088\n",
      "logP_aromatic_bond_percent  =  0.037 +/- 0.06\n",
      "logP_is_symmetric  =  0.119 +/- 0.153\n",
      "\n",
      "===\n",
      "\n",
      "365\n",
      "DMPNN with rdkit 2d normalized wo MolLogP\n",
      "logD\n",
      "None\n",
      "\n",
      "logD_symmetric test RMSE  =  0.892 +/- 0.222\n",
      "logD_symmetric test R2  =  0.355 +/- 0.452\n",
      "logD_non-symmetric test RMSE  =  0.598 +/- 0.036\n",
      "logD_non-symmetric test R2  =  0.75 +/- 0.027\n",
      "logD_rmse  =  0.6 +/- 0.034\n",
      "logD_r2  =  0.748 +/- 0.027\n",
      "logD_atom_count  =  0.526 +/- 0.204\n",
      "logD_ring_count  =  0.599 +/- 0.301\n",
      "logD_non_organogens_count  =  0.56 +/- 0.346\n",
      "logD_non_organogens_percent  =  0.515 +/- 0.341\n",
      "logD_aromatic_count  =  0.52 +/- 0.224\n",
      "logD_aromatic_rings_percent  =  0.683 +/- 0.343\n",
      "logD_bond_count  =  0.224 +/- 0.108\n",
      "logD_aromatic_bond_count  =  0.483 +/- 0.341\n",
      "logD_aromatic_bond_percent  =  0.53 +/- 0.284\n",
      "logD_is_symmetric  =  0.432 +/- 0.146\n",
      "\n",
      "===\n",
      "\n",
      "351\n",
      "StructGNN with ext valence with rdkit wo fragments and counts\n",
      "logP\n",
      "None\n",
      "\n",
      "logP_symmetric test RMSE  =  0.624 +/- 0.111\n",
      "logP_symmetric test R2  =  0.926 +/- 0.027\n",
      "logP_non-symmetric test RMSE  =  0.427 +/- 0.008\n",
      "logP_non-symmetric test R2  =  0.946 +/- 0.002\n",
      "logP_rmse  =  0.439 +/- 0.008\n",
      "logP_r2  =  0.945 +/- 0.002\n",
      "logP_atom_count  =  0.464 +/- 0.281\n",
      "logP_ring_count  =  0.44 +/- 0.42\n",
      "logP_non_organogens_count  =  0.63 +/- 0.295\n",
      "logP_non_organogens_percent  =  0.6 +/- 0.267\n",
      "logP_aromatic_count  =  0.479 +/- 0.223\n",
      "logP_aromatic_rings_percent  =  0.551 +/- 0.299\n",
      "logP_bond_count  =  0.0 +/- 0.0\n",
      "logP_aromatic_bond_count  =  0.195 +/- 0.257\n",
      "logP_aromatic_bond_percent  =  0.047 +/- 0.041\n",
      "logP_is_symmetric  =  0.215 +/- 0.393\n",
      "\n",
      "===\n",
      "\n",
      "352\n",
      "StructGNN with ext valence with rdkit wo fragments and counts\n",
      "logD\n",
      "None\n",
      "\n",
      "logD_symmetric test RMSE  =  0.918 +/- 0.181\n",
      "logD_symmetric test R2  =  0.356 +/- 0.406\n",
      "logD_non-symmetric test RMSE  =  0.554 +/- 0.018\n",
      "logD_non-symmetric test R2  =  0.786 +/- 0.01\n",
      "logD_rmse  =  0.557 +/- 0.016\n",
      "logD_r2  =  0.783 +/- 0.01\n",
      "logD_atom_count  =  0.654 +/- 0.312\n",
      "logD_ring_count  =  0.659 +/- 0.249\n",
      "logD_non_organogens_count  =  0.421 +/- 0.329\n",
      "logD_non_organogens_percent  =  0.487 +/- 0.366\n",
      "logD_aromatic_count  =  0.44 +/- 0.346\n",
      "logD_aromatic_rings_percent  =  0.471 +/- 0.337\n",
      "logD_bond_count  =  0.266 +/- 0.214\n",
      "logD_aromatic_bond_count  =  0.362 +/- 0.246\n",
      "logD_aromatic_bond_percent  =  0.609 +/- 0.232\n",
      "logD_is_symmetric  =  0.229 +/- 0.216\n",
      "\n",
      "===\n",
      "\n",
      "359\n",
      "StructGNN with ext valence with rdkit wo fragments and counts\n",
      "logP logD\n",
      "None\n",
      "\n",
      "logP_symmetric test RMSE  =  0.642 +/- 0.147\n",
      "logP_symmetric test R2  =  0.921 +/- 0.033\n",
      "logP_non-symmetric test RMSE  =  0.42 +/- 0.011\n",
      "logP_non-symmetric test R2  =  0.948 +/- 0.003\n",
      "logP_rmse  =  0.433 +/- 0.013\n",
      "logP_r2  =  0.946 +/- 0.002\n",
      "logP_atom_count  =  0.0 +/- 0.0\n",
      "logP_ring_count  =  0.0 +/- 0.0\n",
      "logP_non_organogens_count  =  0.0 +/- 0.0\n",
      "logP_non_organogens_percent  =  0.053 +/- 0.033\n",
      "logP_aromatic_count  =  0.0 +/- 0.0\n",
      "logP_aromatic_rings_percent  =  0.283 +/- 0.187\n",
      "logP_bond_count  =  0.0 +/- 0.0\n",
      "logP_aromatic_bond_count  =  0.0 +/- 0.0\n",
      "logP_aromatic_bond_percent  =  0.0 +/- 0.0\n",
      "logP_is_symmetric  =  0.01 +/- 0.009\n",
      "logD_symmetric test RMSE  =  0.75 +/- 0.175\n",
      "logD_symmetric test R2  =  0.583 +/- 0.064\n",
      "logD_non-symmetric test RMSE  =  0.546 +/- 0.016\n",
      "logD_non-symmetric test R2  =  0.793 +/- 0.007\n",
      "logD_rmse  =  0.548 +/- 0.019\n",
      "logD_r2  =  0.791 +/- 0.008\n",
      "logD_atom_count  =  0.695 +/- 0.16\n",
      "logD_ring_count  =  0.446 +/- 0.291\n",
      "logD_non_organogens_count  =  0.001 +/- 0.002\n",
      "logD_non_organogens_percent  =  0.0 +/- 0.001\n",
      "logD_aromatic_count  =  0.245 +/- 0.274\n",
      "logD_aromatic_rings_percent  =  0.211 +/- 0.171\n",
      "logD_bond_count  =  0.0 +/- 0.0\n",
      "logD_aromatic_bond_count  =  0.0 +/- 0.0\n",
      "logD_aromatic_bond_percent  =  0.0 +/- 0.0\n",
      "logD_is_symmetric  =  0.003 +/- 0.006\n",
      "\n",
      "===\n",
      "\n",
      "368\n",
      "DMPNN with rdkit 2d normalized wo MolLogP\n",
      "logP logD\n",
      "None\n",
      "\n",
      "logP_symmetric test RMSE  =  0.619 +/- 0.142\n",
      "logP_symmetric test R2  =  0.927 +/- 0.031\n",
      "logP_non-symmetric test RMSE  =  0.449 +/- 0.008\n",
      "logP_non-symmetric test R2  =  0.94 +/- 0.003\n",
      "logP_rmse  =  0.459 +/- 0.012\n",
      "logP_r2  =  0.94 +/- 0.002\n",
      "logP_atom_count  =  0.0 +/- 0.0\n",
      "logP_ring_count  =  0.0 +/- 0.0\n",
      "logP_non_organogens_count  =  0.011 +/- 0.013\n",
      "logP_non_organogens_percent  =  0.363 +/- 0.24\n",
      "logP_aromatic_count  =  0.0 +/- 0.0\n",
      "logP_aromatic_rings_percent  =  0.262 +/- 0.186\n",
      "logP_bond_count  =  0.0 +/- 0.0\n",
      "logP_aromatic_bond_count  =  0.0 +/- 0.0\n",
      "logP_aromatic_bond_percent  =  0.0 +/- 0.0\n",
      "logP_is_symmetric  =  0.025 +/- 0.039\n",
      "logD_symmetric test RMSE  =  0.69 +/- 0.284\n",
      "logD_symmetric test R2  =  0.637 +/- 0.192\n",
      "logD_non-symmetric test RMSE  =  0.582 +/- 0.031\n",
      "logD_non-symmetric test R2  =  0.764 +/- 0.021\n",
      "logD_rmse  =  0.584 +/- 0.034\n",
      "logD_r2  =  0.763 +/- 0.022\n",
      "logD_atom_count  =  0.454 +/- 0.218\n",
      "logD_ring_count  =  0.19 +/- 0.134\n",
      "logD_non_organogens_count  =  0.0 +/- 0.0\n",
      "logD_non_organogens_percent  =  0.0 +/- 0.0\n",
      "logD_aromatic_count  =  0.403 +/- 0.377\n",
      "logD_aromatic_rings_percent  =  0.255 +/- 0.22\n",
      "logD_bond_count  =  0.0 +/- 0.0\n",
      "logD_aromatic_bond_count  =  0.0 +/- 0.0\n",
      "logD_aromatic_bond_percent  =  0.0 +/- 0.0\n",
      "logD_is_symmetric  =  0.0 +/- 0.001\n",
      "\n",
      "===\n",
      "\n"
     ]
    },
    {
     "name": "stderr",
     "output_type": "stream",
     "text": [
      "\n"
     ]
    }
   ],
   "source": [
    "kruskal_stistics = []\n",
    "for NUM_EXP in tqdm(NUM_EXPS):\n",
    "    kruskal_stats = {}\n",
    "    kruskal_stats_mean_std = {}\n",
    "    \n",
    "    DATA_PATH = \"../../data/raw/baselines/dmpnn/logs/exp_\"+str(NUM_EXP)+'/folds'\n",
    "    rmse = []\n",
    "    \n",
    "    preds = []\n",
    "    \n",
    "    for FOLD in range(FOLDS):\n",
    "        import json\n",
    "        with open(os.path.join(DATA_PATH,'fold_'+str(FOLD), 'args.json'), 'r') as f:\n",
    "            args = json.load(f)\n",
    "        VALUE_COLUMNS = args['target_columns']\n",
    "        PRED_COLUMNS = [value+'_pred' for value in args['target_columns']]\n",
    "        if args['additional_encoder']:\n",
    "            kruskal_stats_mean_std['Model'] = 'StructGNN with ext valence'\n",
    "        else:\n",
    "            kruskal_stats_mean_std['Model'] = 'DMPNN'\n",
    "        kruskal_stats_mean_std['Num_exp'] = NUM_EXP\n",
    "        kruskal_stats_mean_std['Data'] = ' '.join(args['target_columns'])\n",
    "        \n",
    "        kruskal_stats_mean_std['Dataset'] = args['separate_test_path']\n",
    "\n",
    "        kruskal_stats_mean_std['Model'] += ' with '+' '.join(args['features_generator'][0].split('_'))\n",
    "        \n",
    "        for VALUE_COLUMN in VALUE_COLUMNS:\n",
    "            if VALUE_COLUMN in kruskal_stats.keys():\n",
    "                pass\n",
    "            else:\n",
    "                kruskal_stats[VALUE_COLUMN] = {}\n",
    "                kruskal_stats[VALUE_COLUMN]['symmetric test RMSE'] = []\n",
    "                kruskal_stats[VALUE_COLUMN]['symmetric test R2'] = []\n",
    "                kruskal_stats[VALUE_COLUMN]['non-symmetric test RMSE'] = []\n",
    "                kruskal_stats[VALUE_COLUMN]['non-symmetric test R2'] = []\n",
    "                kruskal_stats[VALUE_COLUMN]['rmse']= []\n",
    "                kruskal_stats[VALUE_COLUMN]['r2'] = []\n",
    "            PRED_COLUMN = VALUE_COLUMN+'_pred'\n",
    "            test_prediction = pd.read_csv(os.path.join(DATA_PATH,'fold_'+str(FOLD), FILENAME))\n",
    "            kruskal_stats[VALUE_COLUMN]['rmse'].append(\\\n",
    "                                                       mean_squared_error(test_prediction[~test_prediction[VALUE_COLUMN].isna()][VALUE_COLUMN],\\\n",
    "                                                                          test_prediction[~test_prediction[VALUE_COLUMN].isna()][PRED_COLUMN])**0.5)\n",
    "            kruskal_stats[VALUE_COLUMN]['r2'].append(r2_score(\\\n",
    "                                                              test_prediction[~test_prediction[VALUE_COLUMN].isna()][VALUE_COLUMN],\\\n",
    "                                                              test_prediction[~test_prediction[VALUE_COLUMN].isna()][PRED_COLUMN]))\n",
    "            rmse.append(mean_squared_error(test_prediction[~test_prediction[VALUE_COLUMN].isna()][VALUE_COLUMN],\\\n",
    "                                           test_prediction[~test_prediction[VALUE_COLUMN].isna()][PRED_COLUMN])**0.5)\n",
    "            \n",
    "\n",
    "            test_prediction[ERROR_COLUMN] = (test_prediction[VALUE_COLUMN] - test_prediction[PRED_COLUMN]) ** 2    \n",
    "            test_prediction_sorted = test_prediction.sort_values(by=[ERROR_COLUMN], ascending=False)    \n",
    "\n",
    "            compare_data_with_stats = create_statistics(test_prediction_sorted)\n",
    "\n",
    "            best_n_vals = compare_data_with_stats.iloc[-N_VALUES:]\n",
    "            worst_n_vals = compare_data_with_stats.iloc[:N_VALUES]\n",
    "\n",
    "\n",
    "            for stat in compare_data_with_stats.columns:\n",
    "                if stat not in [SMILES_COLUMN, ERROR_COLUMN] and stat not in VALUE_COLUMNS and stat not in PRED_COLUMNS:\n",
    "                    if stat not in kruskal_stats[VALUE_COLUMN].keys():\n",
    "                        kruskal_stats[VALUE_COLUMN][stat] = []\n",
    "                    kruskal_stats[VALUE_COLUMN][stat].append(stats.kruskal(best_n_vals[stat], worst_n_vals[stat])[1])\n",
    "\n",
    "            symmetric_rull = lambda values: (len(values) - 1 <= len(values[values % 2 == 0])) or\\\n",
    "            (len(values) - 1 <= len(values[(values % 2 == 1) & (values > 1)]))\n",
    "            values_list = [pd.Series(Chem.CanonicalRankAtoms(Chem.MolFromSmiles(smiles), breakTies=False)).value_counts()\\\n",
    "                           for smiles in\\\n",
    "                           compare_data_with_stats[~compare_data_with_stats[VALUE_COLUMN].isna()][SMILES_COLUMN]]\n",
    "            symmetric_indices = [symmetric_rull(values) for values in values_list]\n",
    "            not_symmetric_indices = [not e for e in symmetric_indices]\n",
    "            \n",
    "\n",
    "            symmetric_y_predicted = compare_data_with_stats[~compare_data_with_stats[VALUE_COLUMN].isna()][PRED_COLUMN][symmetric_indices]\n",
    "            symmetric_y_expected = compare_data_with_stats[~compare_data_with_stats[VALUE_COLUMN].isna()][VALUE_COLUMN][symmetric_indices]    \n",
    "            not_symmetric_y_predicted = compare_data_with_stats[~compare_data_with_stats[VALUE_COLUMN].isna()][PRED_COLUMN][not_symmetric_indices]    \n",
    "            not_symmetric_y_expected = compare_data_with_stats[~compare_data_with_stats[VALUE_COLUMN].isna()][VALUE_COLUMN][not_symmetric_indices]   \n",
    "            from sklearn.metrics import mean_squared_error    \n",
    "\n",
    "            kruskal_stats[VALUE_COLUMN]['symmetric test RMSE'].append(mean_squared_error(symmetric_y_expected, symmetric_y_predicted, squared=False))\n",
    "            kruskal_stats[VALUE_COLUMN]['symmetric test R2'].append(r2_score(symmetric_y_expected, symmetric_y_predicted))\n",
    "\n",
    "\n",
    "            kruskal_stats[VALUE_COLUMN]['non-symmetric test RMSE'].append(mean_squared_error(not_symmetric_y_expected, not_symmetric_y_predicted, squared=False))\n",
    "            kruskal_stats[VALUE_COLUMN]['non-symmetric test R2'].append(r2_score(not_symmetric_y_expected, not_symmetric_y_predicted))\n",
    "        \n",
    "    \n",
    "    for VALUE in kruskal_stats.keys():\n",
    "        for stat in kruskal_stats[VALUE].keys():\n",
    "            kruskal_stats_mean_std[VALUE+'_'+stat+'_mean'] = np.mean(kruskal_stats[VALUE][stat])\n",
    "            kruskal_stats_mean_std[VALUE+'_'+stat+'_std'] = np.std(kruskal_stats[VALUE][stat])\n",
    "    \n",
    "    kruskal_stistics.append(kruskal_stats_mean_std)\n",
    "    \n",
    "kruskal_stistics = pd.DataFrame(kruskal_stistics)\n",
    "\n",
    "import math\n",
    "for i in range(len(kruskal_stistics)):\n",
    "    stats_model = kruskal_stistics.iloc[i]\n",
    "    print(stats_model['Num_exp'])\n",
    "    print(stats_model['Model'])\n",
    "    print(stats_model['Data'])\n",
    "    print(stats_model['Dataset'])\n",
    "    print()\n",
    "    output = {}\n",
    "    for stat in stats_model.keys():\n",
    "        if stat=='Model' or stat=='Data' or stat=='Dataset' or stat=='Num_exp':\n",
    "            continue\n",
    "        stat_name = '_'.join(stat.split('_')[:-1])\n",
    "        stat_suf = stat.split('_')[-1]\n",
    "        if stat_name not in output.keys():\n",
    "            output[stat_name] = {}\n",
    "        output[stat_name][stat_suf] = stats_model[stat]\n",
    "    for stat in output.keys():\n",
    "        if math.isnan(output[stat]['mean']):\n",
    "            continue\n",
    "        print(stat,' = ', round(output[stat]['mean'],3), '+/-', round(output[stat]['std'], 3))\n",
    "    print()\n",
    "    print('===')\n",
    "    print()\n",
    "    \n",
    "values = {}\n",
    "for column in list(kruskal_stistics):\n",
    "    if column not in ['Model','Num_exp','Data','Dataset']:\n",
    "        property_name = ' '.join(column.split('_')[:-1])\n",
    "        value_name = column.split('_')[-1]\n",
    "        value = kruskal_stistics[column].values\n",
    "        if property_name not in values.keys():\n",
    "            values[property_name] = {}\n",
    "            values[property_name][value_name] = value\n",
    "        else:\n",
    "            values[property_name][value_name] = value\n",
    "            values[property_name] = [str(round(mean,3))+'+/-'+str(round(std, 3)) for mean, std in zip(values[property_name]['mean'], values[property_name]['std'])]\n",
    "stats_markdown_table = pd.DataFrame(columns = ['Model','Num_exp','Data','Dataset'])\n",
    "for column in list(stats_markdown_table):\n",
    "    stats_markdown_table[column] = kruskal_stistics[column]\n",
    "for column in values.keys():\n",
    "    stats_markdown_table[column] = values[column]\n",
    "stats_markdown_table = stats_markdown_table[['Model',\n",
    " 'Num_exp',\n",
    " 'Data',\n",
    " 'logD symmetric test RMSE',\n",
    " 'logP symmetric test RMSE',\n",
    " 'logD non-symmetric test RMSE',\n",
    " 'logP non-symmetric test RMSE',\n",
    " 'logD symmetric test R2',\n",
    " 'logP symmetric test R2',\n",
    " 'logD non-symmetric test R2',\n",
    " 'logP non-symmetric test R2',\n",
    " 'logD rmse',\n",
    " 'logP rmse',\n",
    " 'logD r2',\n",
    " 'logP r2',\n",
    " 'Dataset']]\n",
    "RAW_PATH = '../../data/raw/baselines/dmpnn/'\n",
    "with open(os.path.join(RAW_PATH, 'worst_best_stats.txt'), 'w') as f:\n",
    "    f.write(stats_markdown_table.set_index('Num_exp').to_markdown())"
   ]
  },
  {
   "cell_type": "markdown",
   "metadata": {},
   "source": [
    "# Calculate p values for distribution of errors in models pairs"
   ]
  },
  {
   "cell_type": "markdown",
   "metadata": {},
   "source": [
    "## Cross-validation"
   ]
  },
  {
   "cell_type": "code",
   "execution_count": 9,
   "metadata": {},
   "outputs": [],
   "source": [
    "# NUM_EXPS_PAIRS = [(313,314), (318, 320), (319, 321), (323, 316), (317, 324)]\n",
    "NUM_EXPS_PAIRS = [(364,351), (365, 352), (368, 359)]\n",
    "\n",
    "\n",
    "ALPHA = 0.05\n",
    "\n",
    "FILENAME = \"test_predictions.csv\"\n",
    "\n",
    "SMILES_COLUMN = 'smiles'\n",
    "ERROR_COLUMN = 'Squared Error'\n",
    "\n",
    "FOLDS= 5"
   ]
  },
  {
   "cell_type": "code",
   "execution_count": 10,
   "metadata": {},
   "outputs": [
    {
     "name": "stderr",
     "output_type": "stream",
     "text": [
      "100%|██████████| 3/3 [00:00<00:00,  5.63it/s]\n"
     ]
    }
   ],
   "source": [
    "p_values = []\n",
    "for NUM_EXP_PAIR in tqdm(NUM_EXPS_PAIRS):\n",
    "    p_value = {} \n",
    "    p_value_mean_std = {}\n",
    "    \n",
    "    NUM_EXP_1, NUM_EXP_2 = NUM_EXP_PAIR\n",
    "    \n",
    "    DATA_PATH_1 = \"../../data/raw/baselines/dmpnn/logs/exp_\"+str(NUM_EXP_1)+'/folds'\n",
    "    DATA_PATH_2 = \"../../data/raw/baselines/dmpnn/logs/exp_\"+str(NUM_EXP_2)+'/folds'\n",
    "    rmse = []\n",
    "    \n",
    "    preds = []\n",
    "    \n",
    "    for FOLD in range(FOLDS):\n",
    "        import json\n",
    "        with open(os.path.join(DATA_PATH_1,'fold_'+str(FOLD), 'args.json'), 'r') as f:\n",
    "            args_1 = json.load(f)\n",
    "        with open(os.path.join(DATA_PATH_2,'fold_'+str(FOLD), 'args.json'), 'r') as f:\n",
    "            args_2 = json.load(f)\n",
    "        VALUE_COLUMNS = args_1['target_columns']\n",
    "        PRED_COLUMNS = [value+'_pred' for value in VALUE_COLUMNS]\n",
    "        if args_1['additional_encoder']:\n",
    "            p_value_mean_std['Model_1'] = 'StructGNN with ext valence'\n",
    "        else:\n",
    "            p_value_mean_std['Model_1'] = 'DMPNN'\n",
    "        if args_2['additional_encoder']:\n",
    "            p_value_mean_std['Model_2'] = 'StructGNN with ext valence'\n",
    "        else:\n",
    "            p_value_mean_std['Model_2'] = 'DMPNN'\n",
    "        p_value_mean_std['Num_exp_1'] = NUM_EXP_1\n",
    "        p_value_mean_std['Num_exp_2'] = NUM_EXP_2\n",
    "        p_value_mean_std['Data'] = ' '.join(args_1['target_columns'])\n",
    "        \n",
    "        p_value_mean_std['Dataset'] = args_1['separate_test_path']\n",
    "\n",
    "        p_value_mean_std['Model_1'] += ' with '+' '.join(args_1['features_generator'][0].split('_'))\n",
    "        p_value_mean_std['Model_2'] += ' with '+' '.join(args_2['features_generator'][0].split('_'))\n",
    "        \n",
    "        for VALUE_COLUMN in VALUE_COLUMNS:\n",
    "            if VALUE_COLUMN in p_value.keys():\n",
    "                pass\n",
    "            else:\n",
    "                p_value[VALUE_COLUMN] = {}\n",
    "                p_value[VALUE_COLUMN]['r2_1'] = []\n",
    "                p_value[VALUE_COLUMN]['rmse_1'] = []\n",
    "                p_value[VALUE_COLUMN]['r2_2'] = []\n",
    "                p_value[VALUE_COLUMN]['rmse_2'] = []\n",
    "                p_value[VALUE_COLUMN]['Shapiro_p_value_1'] = []\n",
    "                p_value[VALUE_COLUMN]['Shapiro_p_value_2'] = []\n",
    "                p_value[VALUE_COLUMN]['Normaltest_p_value_1'] = []\n",
    "                p_value[VALUE_COLUMN]['Normaltest_p_value_2'] = []\n",
    "                p_value[VALUE_COLUMN]['P_VALUE'] = []\n",
    "                \n",
    "            PRED_COLUMN = VALUE_COLUMN+'_pred'\n",
    "            test_prediction_1 = pd.read_csv(os.path.join(DATA_PATH_1,'fold_'+str(FOLD), FILENAME))\n",
    "            test_prediction_2 = pd.read_csv(os.path.join(DATA_PATH_2,'fold_'+str(FOLD), FILENAME))\n",
    "            \n",
    "            ERROR_COLUMN_1 = (test_prediction_1[~test_prediction_1[VALUE_COLUMN].isna()][VALUE_COLUMN].values\\\n",
    "                                               - test_prediction_1[~test_prediction_1[VALUE_COLUMN].isna()][PRED_COLUMN].values)**2\n",
    "            \n",
    "            ERROR_COLUMN_2 = (test_prediction_2[~test_prediction_2[VALUE_COLUMN].isna()][VALUE_COLUMN].values\\\n",
    "                                               - test_prediction_2[~test_prediction_2[VALUE_COLUMN].isna()][PRED_COLUMN].values)**2\n",
    "            \n",
    "            p_value[VALUE_COLUMN]['rmse_1'].append(mean_squared_error(test_prediction_1[~test_prediction_1[VALUE_COLUMN].isna()][VALUE_COLUMN],\\\n",
    "                                                                     test_prediction_1[~test_prediction_1[VALUE_COLUMN].isna()][PRED_COLUMN])**0.5)\n",
    "            \n",
    "            p_value[VALUE_COLUMN]['rmse_2'].append(mean_squared_error(test_prediction_2[~test_prediction_2[VALUE_COLUMN].isna()][VALUE_COLUMN],\\\n",
    "                                                                     test_prediction_2[~test_prediction_2[VALUE_COLUMN].isna()][PRED_COLUMN])**0.5)\n",
    "            \n",
    "            p_value[VALUE_COLUMN]['r2_1'].append(r2_score(test_prediction_1[~test_prediction_1[VALUE_COLUMN].isna()][VALUE_COLUMN],\\\n",
    "                                                                     test_prediction_1[~test_prediction_1[VALUE_COLUMN].isna()][PRED_COLUMN]))\n",
    "            \n",
    "            p_value[VALUE_COLUMN]['r2_2'].append(r2_score(test_prediction_2[~test_prediction_2[VALUE_COLUMN].isna()][VALUE_COLUMN],\\\n",
    "                                                                     test_prediction_2[~test_prediction_2[VALUE_COLUMN].isna()][PRED_COLUMN]))\n",
    "            \n",
    "            \n",
    "            stat, p = shapiro(ERROR_COLUMN_1)\n",
    "            p_value[VALUE_COLUMN]['Shapiro_p_value_1'].append(p)\n",
    "            stat, p = shapiro(ERROR_COLUMN_2)\n",
    "            p_value[VALUE_COLUMN]['Shapiro_p_value_2'].append(p)\n",
    "            \n",
    "            stat, p = normaltest(ERROR_COLUMN_1)\n",
    "            p_value[VALUE_COLUMN]['Normaltest_p_value_1'].append(p)\n",
    "            stat, p = normaltest(ERROR_COLUMN_2)\n",
    "            p_value[VALUE_COLUMN]['Normaltest_p_value_2'].append(p)\n",
    "            \n",
    "            if p_value[VALUE_COLUMN]['Shapiro_p_value_1'][-1]>ALPHA and \\\n",
    "            p_value[VALUE_COLUMN]['Shapiro_p_value_2'][-1]>ALPHA and \\\n",
    "            p_value[VALUE_COLUMN]['Normaltest_p_value_1'][-1]>ALPHA and \\\n",
    "            p_value[VALUE_COLUMN]['Normaltest_p_value_2'][-1]>ALPHA:\n",
    "                stat, p = ttest_ind(ERROR_COLUMN_1, ERROR_COLUMN_2)\n",
    "                p_value[VALUE_COLUMN]['P_VALUE'].append(p)\n",
    "            else:\n",
    "                if 'DMPNN' in p_value_mean_std['Model_1']:\n",
    "                    stat, p = mannwhitneyu(ERROR_COLUMN_1, ERROR_COLUMN_2, alternative = 'greater')\n",
    "                    p_value[VALUE_COLUMN]['P_VALUE'].append(p)\n",
    "                else:\n",
    "                    stat, p = mannwhitneyu(ERROR_COLUMN_1, ERROR_COLUMN_2, alternative = 'less')\n",
    "                    p_value[VALUE_COLUMN]['P_VALUE'].append(p)\n",
    "\n",
    "        \n",
    "    for VALUE in p_value.keys():\n",
    "        for stat in p_value[VALUE].keys():\n",
    "            p_value_mean_std[VALUE+'_'+stat+'_mean'] = np.mean(p_value[VALUE][stat])\n",
    "            p_value_mean_std[VALUE+'_'+stat+'_std'] = np.std(p_value[VALUE][stat])\n",
    "    \n",
    "    p_values.append(p_value_mean_std)\n",
    "    \n",
    "p_values = pd.DataFrame(p_values)\n",
    "\n",
    "values = {}\n",
    "for column in list(p_values):\n",
    "    if column not in ['Model_1','Num_exp_1','Model_2','Num_exp_2','Data','Dataset']:\n",
    "        property_name = ' '.join(column.split('_')[:-1])\n",
    "        value_name = column.split('_')[-1]\n",
    "        value = p_values[column].values\n",
    "        if property_name not in values.keys():\n",
    "            values[property_name] = {}\n",
    "            values[property_name][value_name] = value\n",
    "        else:\n",
    "            values[property_name][value_name] = value\n",
    "            values[property_name] = [str(round(mean,3))+'+/-'+str(round(std, 3)) for mean, std in zip(values[property_name]['mean'], values[property_name]['std'])]\n",
    "stats_markdown_table = pd.DataFrame(columns = ['Model_1',\n",
    " 'Model_2',\n",
    " 'Num_exp_1',\n",
    " 'Num_exp_2',\n",
    " 'Data',\n",
    " 'logP P VALUE',\n",
    " 'logD P VALUE',\n",
    " 'logP rmse 1',\n",
    " 'logP rmse 2',\n",
    " 'logP r2 1',\n",
    " 'logP r2 2',\n",
    " 'logD rmse 1',\n",
    " 'logD rmse 2',\n",
    " 'logD r2 1',\n",
    " 'logD r2 2',\n",
    " 'Dataset',\n",
    " 'logP Shapiro p value 1',\n",
    " 'logP Shapiro p value 2',\n",
    " 'logP Normaltest p value 1',\n",
    " 'logP Normaltest p value 2'\n",
    " 'logD Shapiro p value 1',\n",
    " 'logD Shapiro p value 2',\n",
    " 'logD Normaltest p value 1',\n",
    " 'logD Normaltest p value 2'])\n",
    "for column in p_values.keys():\n",
    "    stats_markdown_table[column] = p_values[column]\n",
    "for column in values.keys():\n",
    "    stats_markdown_table[column] = values[column]\n",
    "stats_markdown_table = stats_markdown_table[['Model_1',\n",
    " 'Model_2',\n",
    " 'Num_exp_1',\n",
    " 'Num_exp_2',\n",
    " 'Data',\n",
    " 'logP P VALUE',\n",
    " 'logD P VALUE',\n",
    " 'logP rmse 1',\n",
    " 'logP rmse 2',\n",
    " 'logP r2 1',\n",
    " 'logP r2 2',\n",
    " 'logD rmse 1',\n",
    " 'logD rmse 2',\n",
    " 'logD r2 1',\n",
    " 'logD r2 2',\n",
    " 'Dataset']]    \n",
    "RAW_PATH = '../../data/raw/baselines/dmpnn/'\n",
    "with open(os.path.join(RAW_PATH, 'DMPNN_StructDNN_p_value_comparison.txt'), 'w') as f:\n",
    "    f.write(stats_markdown_table.to_markdown())"
   ]
  },
  {
   "cell_type": "code",
   "execution_count": 11,
   "metadata": {},
   "outputs": [
    {
     "data": {
      "text/html": [
       "<div>\n",
       "<style scoped>\n",
       "    .dataframe tbody tr th:only-of-type {\n",
       "        vertical-align: middle;\n",
       "    }\n",
       "\n",
       "    .dataframe tbody tr th {\n",
       "        vertical-align: top;\n",
       "    }\n",
       "\n",
       "    .dataframe thead th {\n",
       "        text-align: right;\n",
       "    }\n",
       "</style>\n",
       "<table border=\"1\" class=\"dataframe\">\n",
       "  <thead>\n",
       "    <tr style=\"text-align: right;\">\n",
       "      <th></th>\n",
       "      <th>Model_1</th>\n",
       "      <th>Model_2</th>\n",
       "      <th>Num_exp_1</th>\n",
       "      <th>Num_exp_2</th>\n",
       "      <th>Data</th>\n",
       "      <th>logP P VALUE</th>\n",
       "      <th>logD P VALUE</th>\n",
       "      <th>logP rmse 1</th>\n",
       "      <th>logP rmse 2</th>\n",
       "      <th>logP r2 1</th>\n",
       "      <th>logP r2 2</th>\n",
       "      <th>logD rmse 1</th>\n",
       "      <th>logD rmse 2</th>\n",
       "      <th>logD r2 1</th>\n",
       "      <th>logD r2 2</th>\n",
       "      <th>Dataset</th>\n",
       "    </tr>\n",
       "  </thead>\n",
       "  <tbody>\n",
       "    <tr>\n",
       "      <th>0</th>\n",
       "      <td>DMPNN with rdkit 2d normalized wo MolLogP</td>\n",
       "      <td>StructGNN with ext valence with rdkit wo fragm...</td>\n",
       "      <td>364</td>\n",
       "      <td>351</td>\n",
       "      <td>logP</td>\n",
       "      <td>0.005+/-0.007</td>\n",
       "      <td>nan+/-nan</td>\n",
       "      <td>0.452+/-0.007</td>\n",
       "      <td>0.439+/-0.008</td>\n",
       "      <td>0.941+/-0.001</td>\n",
       "      <td>0.945+/-0.002</td>\n",
       "      <td>nan+/-nan</td>\n",
       "      <td>nan+/-nan</td>\n",
       "      <td>nan+/-nan</td>\n",
       "      <td>nan+/-nan</td>\n",
       "      <td>None</td>\n",
       "    </tr>\n",
       "    <tr>\n",
       "      <th>1</th>\n",
       "      <td>DMPNN with rdkit 2d normalized wo MolLogP</td>\n",
       "      <td>StructGNN with ext valence with rdkit wo fragm...</td>\n",
       "      <td>365</td>\n",
       "      <td>352</td>\n",
       "      <td>logD</td>\n",
       "      <td>nan+/-nan</td>\n",
       "      <td>0.013+/-0.021</td>\n",
       "      <td>nan+/-nan</td>\n",
       "      <td>nan+/-nan</td>\n",
       "      <td>nan+/-nan</td>\n",
       "      <td>nan+/-nan</td>\n",
       "      <td>0.6+/-0.034</td>\n",
       "      <td>0.557+/-0.016</td>\n",
       "      <td>0.748+/-0.027</td>\n",
       "      <td>0.783+/-0.01</td>\n",
       "      <td>None</td>\n",
       "    </tr>\n",
       "    <tr>\n",
       "      <th>2</th>\n",
       "      <td>DMPNN with rdkit 2d normalized wo MolLogP</td>\n",
       "      <td>StructGNN with ext valence with rdkit wo fragm...</td>\n",
       "      <td>368</td>\n",
       "      <td>359</td>\n",
       "      <td>logP logD</td>\n",
       "      <td>0.001+/-0.002</td>\n",
       "      <td>0.055+/-0.055</td>\n",
       "      <td>0.459+/-0.012</td>\n",
       "      <td>0.433+/-0.013</td>\n",
       "      <td>0.94+/-0.002</td>\n",
       "      <td>0.946+/-0.002</td>\n",
       "      <td>0.584+/-0.034</td>\n",
       "      <td>0.548+/-0.019</td>\n",
       "      <td>0.763+/-0.022</td>\n",
       "      <td>0.791+/-0.008</td>\n",
       "      <td>None</td>\n",
       "    </tr>\n",
       "  </tbody>\n",
       "</table>\n",
       "</div>"
      ],
      "text/plain": [
       "                                     Model_1  \\\n",
       "0  DMPNN with rdkit 2d normalized wo MolLogP   \n",
       "1  DMPNN with rdkit 2d normalized wo MolLogP   \n",
       "2  DMPNN with rdkit 2d normalized wo MolLogP   \n",
       "\n",
       "                                             Model_2  Num_exp_1  Num_exp_2  \\\n",
       "0  StructGNN with ext valence with rdkit wo fragm...        364        351   \n",
       "1  StructGNN with ext valence with rdkit wo fragm...        365        352   \n",
       "2  StructGNN with ext valence with rdkit wo fragm...        368        359   \n",
       "\n",
       "        Data   logP P VALUE   logD P VALUE    logP rmse 1    logP rmse 2  \\\n",
       "0       logP  0.005+/-0.007      nan+/-nan  0.452+/-0.007  0.439+/-0.008   \n",
       "1       logD      nan+/-nan  0.013+/-0.021      nan+/-nan      nan+/-nan   \n",
       "2  logP logD  0.001+/-0.002  0.055+/-0.055  0.459+/-0.012  0.433+/-0.013   \n",
       "\n",
       "       logP r2 1      logP r2 2    logD rmse 1    logD rmse 2      logD r2 1  \\\n",
       "0  0.941+/-0.001  0.945+/-0.002      nan+/-nan      nan+/-nan      nan+/-nan   \n",
       "1      nan+/-nan      nan+/-nan    0.6+/-0.034  0.557+/-0.016  0.748+/-0.027   \n",
       "2   0.94+/-0.002  0.946+/-0.002  0.584+/-0.034  0.548+/-0.019  0.763+/-0.022   \n",
       "\n",
       "       logD r2 2 Dataset  \n",
       "0      nan+/-nan    None  \n",
       "1   0.783+/-0.01    None  \n",
       "2  0.791+/-0.008    None  "
      ]
     },
     "execution_count": 11,
     "metadata": {},
     "output_type": "execute_result"
    }
   ],
   "source": [
    "stats_markdown_table"
   ]
  },
  {
   "cell_type": "markdown",
   "metadata": {},
   "source": [
    "## No Cross-Validation"
   ]
  },
  {
   "cell_type": "code",
   "execution_count": 8,
   "metadata": {},
   "outputs": [],
   "source": [
    "NUM_EXPS_PAIRS = [(364,351), (365, 352), (368, 359)]\n",
    "\n",
    "ALPHA = 0.05\n",
    "\n",
    "FILENAME = \"test_predictions.csv\"\n",
    "\n",
    "SMILES_COLUMN = 'smiles'\n",
    "ERROR_COLUMN = 'Squared Error'\n",
    "\n",
    "FOLDS= 1"
   ]
  },
  {
   "cell_type": "code",
   "execution_count": 24,
   "metadata": {},
   "outputs": [
    {
     "name": "stderr",
     "output_type": "stream",
     "text": [
      "\r",
      "  0%|          | 0/3 [00:00<?, ?it/s]"
     ]
    },
    {
     "data": {
      "image/png": "[encoded data removed]",
      "text/plain": [
       "<Figure size 432x288 with 1 Axes>"
      ]
     },
     "metadata": {
      "needs_background": "light"
     },
     "output_type": "display_data"
    },
    {
     "name": "stderr",
     "output_type": "stream",
     "text": [
      "\r",
      " 33%|███▎      | 1/3 [00:02<00:04,  2.16s/it]"
     ]
    },
    {
     "name": "stdout",
     "output_type": "stream",
     "text": [
      "DMPNN with rdkit 2d normalized wo MolLogP   364\n",
      "StructGNN with ext valence with rdkit wo fragments and counts   351\n",
      "logP\n"
     ]
    },
    {
     "data": {
      "image/png": "[encoded data removed]",
      "text/plain": [
       "<Figure size 432x288 with 1 Axes>"
      ]
     },
     "metadata": {
      "needs_background": "light"
     },
     "output_type": "display_data"
    },
    {
     "name": "stderr",
     "output_type": "stream",
     "text": [
      "\r",
      " 67%|██████▋   | 2/3 [00:03<00:01,  1.91s/it]"
     ]
    },
    {
     "name": "stdout",
     "output_type": "stream",
     "text": [
      "DMPNN with rdkit 2d normalized wo MolLogP   365\n",
      "StructGNN with ext valence with rdkit wo fragments and counts   352\n",
      "logD\n"
     ]
    },
    {
     "data": {
      "image/png": "[encoded data removed]",
      "text/plain": [
       "<Figure size 432x288 with 1 Axes>"
      ]
     },
     "metadata": {
      "needs_background": "light"
     },
     "output_type": "display_data"
    },
    {
     "data": {
      "image/png": "[encoded data removed]",
      "text/plain": [
       "<Figure size 432x288 with 1 Axes>"
      ]
     },
     "metadata": {
      "needs_background": "light"
     },
     "output_type": "display_data"
    },
    {
     "name": "stderr",
     "output_type": "stream",
     "text": [
      "100%|██████████| 3/3 [00:06<00:00,  2.09s/it]"
     ]
    },
    {
     "name": "stdout",
     "output_type": "stream",
     "text": [
      "DMPNN with rdkit 2d normalized wo MolLogP   368\n",
      "StructGNN with ext valence with rdkit wo fragments and counts   359\n",
      "logP logD\n"
     ]
    },
    {
     "name": "stderr",
     "output_type": "stream",
     "text": [
      "\n"
     ]
    }
   ],
   "source": [
    "p_values = []\n",
    "for NUM_EXP_PAIR in tqdm(NUM_EXPS_PAIRS):\n",
    "    p_value = {} \n",
    "    p_value_mean_std = {}\n",
    "    \n",
    "    NUM_EXP_1, NUM_EXP_2 = NUM_EXP_PAIR\n",
    "    \n",
    "    DATA_PATH_1 = \"../../data/raw/baselines/dmpnn/logs/exp_\"+str(NUM_EXP_1)+'/folds'\n",
    "    DATA_PATH_2 = \"../../data/raw/baselines/dmpnn/logs/exp_\"+str(NUM_EXP_2)+'/folds'\n",
    "    rmse = []\n",
    "    \n",
    "    preds = []\n",
    "    \n",
    "    for FOLD in range(FOLDS):\n",
    "        import json\n",
    "        with open(os.path.join(DATA_PATH_1,'fold_'+str(FOLD), 'args.json'), 'r') as f:\n",
    "            args_1 = json.load(f)\n",
    "        with open(os.path.join(DATA_PATH_2,'fold_'+str(FOLD), 'args.json'), 'r') as f:\n",
    "            args_2 = json.load(f)\n",
    "        VALUE_COLUMNS = args_1['target_columns']\n",
    "        PRED_COLUMNS = [value+'_pred' for value in VALUE_COLUMNS]\n",
    "        if args_1['additional_encoder']:\n",
    "            p_value_mean_std['Model_1'] = 'StructGNN with ext valence'\n",
    "        else:\n",
    "            p_value_mean_std['Model_1'] = 'DMPNN'\n",
    "        if args_2['additional_encoder']:\n",
    "            p_value_mean_std['Model_2'] = 'StructGNN with ext valence'\n",
    "        else:\n",
    "            p_value_mean_std['Model_2'] = 'DMPNN'\n",
    "        p_value_mean_std['Num_exp_1'] = NUM_EXP_1\n",
    "        p_value_mean_std['Num_exp_2'] = NUM_EXP_2\n",
    "        p_value_mean_std['Data'] = ' '.join(args_1['target_columns'])\n",
    "        \n",
    "        p_value_mean_std['Dataset'] = args_1['separate_test_path']\n",
    "\n",
    "        p_value_mean_std['Model_1'] += ' with '+' '.join(args_1['features_generator'][0].split('_'))\n",
    "        p_value_mean_std['Model_2'] += ' with '+' '.join(args_2['features_generator'][0].split('_'))\n",
    "        \n",
    "        for VALUE_COLUMN in VALUE_COLUMNS:\n",
    "            if VALUE_COLUMN in p_value.keys():\n",
    "                pass\n",
    "            else:\n",
    "                p_value[VALUE_COLUMN] = {}\n",
    "                p_value[VALUE_COLUMN]['r2_1'] = []\n",
    "                p_value[VALUE_COLUMN]['rmse_1'] = []\n",
    "                p_value[VALUE_COLUMN]['r2_2'] = []\n",
    "                p_value[VALUE_COLUMN]['rmse_2'] = []\n",
    "                p_value[VALUE_COLUMN]['Shapiro_p_value_1'] = []\n",
    "                p_value[VALUE_COLUMN]['Shapiro_p_value_2'] = []\n",
    "                p_value[VALUE_COLUMN]['Normaltest_p_value_1'] = []\n",
    "                p_value[VALUE_COLUMN]['Normaltest_p_value_2'] = []\n",
    "                p_value[VALUE_COLUMN]['P_VALUE'] = []\n",
    "                \n",
    "            PRED_COLUMN = VALUE_COLUMN+'_pred'\n",
    "            test_prediction_1 = pd.read_csv(os.path.join(DATA_PATH_1,'fold_'+str(FOLD), FILENAME))\n",
    "            test_prediction_2 = pd.read_csv(os.path.join(DATA_PATH_2,'fold_'+str(FOLD), FILENAME))\n",
    "            \n",
    "            ERROR_COLUMN_1 = (test_prediction_1[~test_prediction_1[VALUE_COLUMN].isna()][VALUE_COLUMN].values\\\n",
    "                                               - test_prediction_1[~test_prediction_1[VALUE_COLUMN].isna()][PRED_COLUMN].values)**2\n",
    "            \n",
    "            ERROR_COLUMN_2 = (test_prediction_2[~test_prediction_2[VALUE_COLUMN].isna()][VALUE_COLUMN].values\\\n",
    "                                               - test_prediction_2[~test_prediction_2[VALUE_COLUMN].isna()][PRED_COLUMN].values)**2\n",
    "            \n",
    "            p_value[VALUE_COLUMN]['rmse_1'].append(mean_squared_error(test_prediction_1[~test_prediction_1[VALUE_COLUMN].isna()][VALUE_COLUMN],\\\n",
    "                                                                     test_prediction_1[~test_prediction_1[VALUE_COLUMN].isna()][PRED_COLUMN])**0.5)\n",
    "            \n",
    "            p_value[VALUE_COLUMN]['rmse_2'].append(mean_squared_error(test_prediction_2[~test_prediction_2[VALUE_COLUMN].isna()][VALUE_COLUMN],\\\n",
    "                                                                     test_prediction_2[~test_prediction_2[VALUE_COLUMN].isna()][PRED_COLUMN])**0.5)\n",
    "            \n",
    "            p_value[VALUE_COLUMN]['r2_1'].append(r2_score(test_prediction_1[~test_prediction_1[VALUE_COLUMN].isna()][VALUE_COLUMN],\\\n",
    "                                                                     test_prediction_1[~test_prediction_1[VALUE_COLUMN].isna()][PRED_COLUMN]))\n",
    "            \n",
    "            p_value[VALUE_COLUMN]['r2_2'].append(r2_score(test_prediction_2[~test_prediction_2[VALUE_COLUMN].isna()][VALUE_COLUMN],\\\n",
    "                                                                     test_prediction_2[~test_prediction_2[VALUE_COLUMN].isna()][PRED_COLUMN]))\n",
    "            \n",
    "            \n",
    "            stat, p = shapiro(ERROR_COLUMN_1)\n",
    "            p_value[VALUE_COLUMN]['Shapiro_p_value_1'].append(p)\n",
    "            stat, p = shapiro(ERROR_COLUMN_2)\n",
    "            p_value[VALUE_COLUMN]['Shapiro_p_value_2'].append(p)\n",
    "            \n",
    "            stat, p = normaltest(ERROR_COLUMN_1)\n",
    "            p_value[VALUE_COLUMN]['Normaltest_p_value_1'].append(p)\n",
    "            stat, p = normaltest(ERROR_COLUMN_2)\n",
    "            p_value[VALUE_COLUMN]['Normaltest_p_value_2'].append(p)\n",
    "            \n",
    "            if p_value[VALUE_COLUMN]['Shapiro_p_value_1'][-1]>ALPHA and \\\n",
    "            p_value[VALUE_COLUMN]['Shapiro_p_value_2'][-1]>ALPHA and \\\n",
    "            p_value[VALUE_COLUMN]['Normaltest_p_value_1'][-1]>ALPHA and \\\n",
    "            p_value[VALUE_COLUMN]['Normaltest_p_value_2'][-1]>ALPHA:\n",
    "                stat, p = ttest_ind(ERROR_COLUMN_1, ERROR_COLUMN_2)\n",
    "                p_value[VALUE_COLUMN]['P_VALUE'].append(p)\n",
    "            else:\n",
    "                if 'DMPNN' in p_value_mean_std['Model_1']:\n",
    "                    stat, p = mannwhitneyu(ERROR_COLUMN_1, ERROR_COLUMN_2, alternative = 'greater')\n",
    "                    p_value[VALUE_COLUMN]['P_VALUE'].append(p)\n",
    "                else:\n",
    "                    stat, p = mannwhitneyu(ERROR_COLUMN_1, ERROR_COLUMN_2, alternative = 'less')\n",
    "                    p_value[VALUE_COLUMN]['P_VALUE'].append(p) \n",
    "                    \n",
    "            if 'DMPNN' in p_value_mean_std['Model_1']:\n",
    "                sns.distplot(np.log(ERROR_COLUMN_2), color='g')\n",
    "                sns.distplot(np.log(ERROR_COLUMN_1), color='r')\n",
    "            else:\n",
    "                sns.distplot(np.log(ERROR_COLUMN_1), color='g')\n",
    "                sns.distplot(np.log(ERROR_COLUMN_2), color='r')\n",
    "            plt.show()\n",
    "\n",
    "    \n",
    "    for VALUE in p_value.keys():\n",
    "        for stat in p_value[VALUE].keys():\n",
    "            p_value_mean_std[VALUE+'_'+stat+'_mean'] = np.mean(p_value[VALUE][stat])\n",
    "            p_value_mean_std[VALUE+'_'+stat+'_std'] = np.std(p_value[VALUE][stat])\n",
    "            \n",
    "    print(p_value_mean_std['Model_1'], ' ', str(p_value_mean_std['Num_exp_1']))\n",
    "    print(p_value_mean_std['Model_2'], ' ', str(p_value_mean_std['Num_exp_2']))\n",
    "    print(p_value_mean_std['Data'])\n",
    "    \n",
    "    \n",
    "    \n",
    "    \n",
    "    p_values.append(p_value_mean_std)\n",
    "    \n",
    "p_values = pd.DataFrame(p_values)\n",
    "\n",
    "values = {}\n",
    "for column in list(p_values):\n",
    "    if column not in ['Model_1','Num_exp_1','Model_2','Num_exp_2','Data','Dataset']:\n",
    "        property_name = ' '.join(column.split('_')[:-1])\n",
    "        value_name = column.split('_')[-1]\n",
    "        value = p_values[column].values\n",
    "        if property_name not in values.keys():\n",
    "            values[property_name] = {}\n",
    "            values[property_name][value_name] = value\n",
    "        else:\n",
    "            values[property_name][value_name] = value\n",
    "            values[property_name] = [str(round(mean,3))+'+/-'+str(round(std, 3)) for mean, std in zip(values[property_name]['mean'], values[property_name]['std'])]\n",
    "stats_markdown_table = pd.DataFrame(columns = ['Model_1',\n",
    " 'Model_2',\n",
    " 'Num_exp_1',\n",
    " 'Num_exp_2',\n",
    " 'Data',\n",
    " 'logP P VALUE',\n",
    " 'logD P VALUE',\n",
    " 'logP rmse 1',\n",
    " 'logP rmse 2',\n",
    " 'logP r2 1',\n",
    " 'logP r2 2',\n",
    " 'logD rmse 1',\n",
    " 'logD rmse 2',\n",
    " 'logD r2 1',\n",
    " 'logD r2 2',\n",
    " 'Dataset',\n",
    " 'logP Shapiro p value 1',\n",
    " 'logP Shapiro p value 2',\n",
    " 'logP Normaltest p value 1',\n",
    " 'logP Normaltest p value 2'\n",
    " 'logD Shapiro p value 1',\n",
    " 'logD Shapiro p value 2',\n",
    " 'logD Normaltest p value 1',\n",
    " 'logD Normaltest p value 2'])\n",
    "for column in p_values.keys():\n",
    "    stats_markdown_table[column] = p_values[column]\n",
    "for column in values.keys():\n",
    "    stats_markdown_table[column] = values[column]\n",
    "stats_markdown_table = stats_markdown_table[['Model_1',\n",
    " 'Model_2',\n",
    " 'Num_exp_1',\n",
    " 'Num_exp_2',\n",
    " 'Data',\n",
    " 'logP P VALUE',\n",
    " 'logD P VALUE',\n",
    " 'logP rmse 1',\n",
    " 'logP rmse 2',\n",
    " 'logP r2 1',\n",
    " 'logP r2 2',\n",
    " 'logD rmse 1',\n",
    " 'logD rmse 2',\n",
    " 'logD r2 1',\n",
    " 'logD r2 2',\n",
    " 'Dataset']]    \n",
    "RAW_PATH = '../../data/raw/baselines/dmpnn/'\n",
    "with open(os.path.join(RAW_PATH, 'DMPNN_StructDNN_p_value_comparison.txt'), 'w') as f:\n",
    "    f.write(stats_markdown_table.to_markdown())"
   ]
  },
  {
   "cell_type": "code",
   "execution_count": 12,
   "metadata": {},
   "outputs": [],
   "source": [
    "\n",
    "FILENAME = \"test_predictions.csv\"\n",
    "\n",
    "SMILES_COLUMN = 'smiles'"
   ]
  },
  {
   "cell_type": "code",
   "execution_count": 18,
   "metadata": {},
   "outputs": [],
   "source": [
    "VALUE_COLUMN = 'logP'\n",
    "PRED_COLUMN = 'logP_pred'"
   ]
  },
  {
   "cell_type": "code",
   "execution_count": 7,
   "metadata": {},
   "outputs": [],
   "source": [
    " DATA_PATH = \"../../data/raw/baselines/dmpnn/logs/exp_\"+str(331)+'/folds'"
   ]
  },
  {
   "cell_type": "code",
   "execution_count": 10,
   "metadata": {},
   "outputs": [],
   "source": [
    "DATA_PATH = \"../../data/raw/baselines/dmpnn/logs/exp_\"+str(331)+'/folds'\n",
    "test_prediction_MULTITASK = pd.read_csv(os.path.join(DATA_PATH,'fold_'+str(0), FILENAME))"
   ]
  },
  {
   "cell_type": "code",
   "execution_count": 11,
   "metadata": {},
   "outputs": [],
   "source": [
    "DATA_PATH = \"../../data/raw/baselines/dmpnn/logs/exp_\"+str(326)+'/folds'\n",
    "test_prediction_logP_DMPNN = pd.read_csv(os.path.join(DATA_PATH,'fold_'+str(0), FILENAME))"
   ]
  },
  {
   "cell_type": "code",
   "execution_count": 33,
   "metadata": {},
   "outputs": [],
   "source": [
    "Preds_MULTITASK  = test_prediction_MULTITASK[~test_prediction_MULTITASK[VALUE_COLUMN].isna()]\n",
    "Preds_logP_DMPNN  = test_prediction_logP_DMPNN[~test_prediction_logP_DMPNN[VALUE_COLUMN].isna()]\n"
   ]
  },
  {
   "cell_type": "code",
   "execution_count": 34,
   "metadata": {},
   "outputs": [
    {
     "data": {
      "text/plain": [
       "(2095, 5)"
      ]
     },
     "execution_count": 34,
     "metadata": {},
     "output_type": "execute_result"
    }
   ],
   "source": [
    "Preds_MULTITASK.shape"
   ]
  },
  {
   "cell_type": "code",
   "execution_count": 35,
   "metadata": {},
   "outputs": [
    {
     "data": {
      "text/plain": [
       "(2067, 3)"
      ]
     },
     "execution_count": 35,
     "metadata": {},
     "output_type": "execute_result"
    }
   ],
   "source": [
    "Preds_logP_DMPNN.shape"
   ]
  },
  {
   "cell_type": "code",
   "execution_count": 54,
   "metadata": {},
   "outputs": [],
   "source": [
    "ERROR_MULTITASK = ERROR_MULTITASK[np.where(ERROR_MULTITASK<2)]"
   ]
  },
  {
   "cell_type": "code",
   "execution_count": 61,
   "metadata": {},
   "outputs": [
    {
     "name": "stdout",
     "output_type": "stream",
     "text": [
      "Multitask error =  0.4157461049247995\n",
      "DMPNN error =  0.4503919784984623\n"
     ]
    }
   ],
   "source": [
    "ERROR_MULTITASK = (Preds_MULTITASK[VALUE_COLUMN].values - Preds_MULTITASK[PRED_COLUMN].values)**2\n",
    "print('Multitask error = ', np.sqrt(np.mean(ERROR_MULTITASK)))\n",
    "ERROR_DMPNN = (Preds_logP_DMPNN[VALUE_COLUMN].values-Preds_logP_DMPNN[PRED_COLUMN].values)**2\n",
    "print('DMPNN error = ', np.sqrt(np.mean(ERROR_DMPNN)))"
   ]
  },
  {
   "cell_type": "code",
   "execution_count": 62,
   "metadata": {},
   "outputs": [],
   "source": [
    "Q_MULTITASK = np.quantile(ERROR_MULTITASK,[0.25,0.75])\n",
    "ERROR_MULTITASK = ERROR_MULTITASK[np.where(ERROR_MULTITASK>Q_MULTITASK[0])]\n",
    "ERROR_MULTITASK = ERROR_MULTITASK[np.where(ERROR_MULTITASK<Q_MULTITASK[1])]\n",
    "\n",
    "\n",
    "Q_DMPNN = np.quantile(ERROR_DMPNN,[0.25,0.75])\n",
    "ERROR_DMPNN = ERROR_DMPNN[np.where(ERROR_DMPNN>Q_DMPNN[0])]\n",
    "ERROR_DMPNN = ERROR_DMPNN[np.where(ERROR_DMPNN<Q_DMPNN[1])]"
   ]
  },
  {
   "cell_type": "code",
   "execution_count": 64,
   "metadata": {},
   "outputs": [
    {
     "data": {
      "text/plain": [
       "<AxesSubplot:>"
      ]
     },
     "execution_count": 64,
     "metadata": {},
     "output_type": "execute_result"
    },
    {
     "data": {
      "image/png": "[encoded data removed]",
      "text/plain": [
       "<Figure size 432x288 with 1 Axes>"
      ]
     },
     "metadata": {
      "needs_background": "light"
     },
     "output_type": "display_data"
    }
   ],
   "source": [
    "sns.distplot(ERROR_MULTITASK, color='g')\n",
    "sns.distplot(ERROR_DMPNN, color='r')"
   ]
  },
  {
   "cell_type": "code",
   "execution_count": 65,
   "metadata": {},
   "outputs": [
    {
     "name": "stdout",
     "output_type": "stream",
     "text": [
      "MultiTask Normaltest pvalue =  1.5944149045314972e-27\n",
      "DMPNN Normaltest pvalue =  1.0063785025909551e-28\n"
     ]
    }
   ],
   "source": [
    "stat, p = shapiro(ERROR_MULTITASK)\n",
    "print('MultiTask Normaltest pvalue = ', p)\n",
    "stat, p = shapiro(ERROR_DMPNN)\n",
    "print('DMPNN Normaltest pvalue = ', p)"
   ]
  },
  {
   "cell_type": "code",
   "execution_count": 71,
   "metadata": {},
   "outputs": [
    {
     "name": "stdout",
     "output_type": "stream",
     "text": [
      "Errors p-value  0.7756001772628621\n"
     ]
    }
   ],
   "source": [
    "stat, p = mannwhitneyu(ERROR_MULTITASK, ERROR_DMPNN, alternative = 'less')\n",
    "print('Errors p-value ', p)"
   ]
  },
  {
   "cell_type": "code",
   "execution_count": 32,
   "metadata": {},
   "outputs": [],
   "source": [
    "stat, p = mannwhitneyu(ERROR_MULTITASK, np.ones((100000, )), alternative = 'greater')"
   ]
  },
  {
   "cell_type": "markdown",
   "metadata": {},
   "source": [
    "# Calculate correlation between logD and logP predictions in multitask"
   ]
  },
  {
   "cell_type": "code",
   "execution_count": 24,
   "metadata": {},
   "outputs": [],
   "source": [
    "NUM_EXPS= [317]"
   ]
  },
  {
   "cell_type": "code",
   "execution_count": 37,
   "metadata": {},
   "outputs": [
    {
     "name": "stderr",
     "output_type": "stream",
     "text": [
      "100%|██████████| 1/1 [00:00<00:00, 20.66it/s]"
     ]
    },
    {
     "name": "stdout",
     "output_type": "stream",
     "text": [
      "Pearson's r  correlation =  0.802 +/- 0.014\n",
      "Spearman's rho  correlation =  0.859 +/- 0.004\n",
      "Kendall's tau  correlation =  0.688 +/- 0.006\n"
     ]
    },
    {
     "name": "stderr",
     "output_type": "stream",
     "text": [
      "\n"
     ]
    }
   ],
   "source": [
    "correlation_mean_std = {}\n",
    "correlation_mean_std['Pearson\\'s r'] = {}\n",
    "correlation_mean_std['Spearman\\'s rho'] = {}\n",
    "correlation_mean_std['Kendall\\'s tau'] = {}\n",
    "for NUM_EXP in tqdm(NUM_EXPS):\n",
    "    DATA_PATH = \"../../data/raw/baselines/dmpnn/logs/exp_\"+str(NUM_EXP)+'/folds'\n",
    "    rmse = []\n",
    "    \n",
    "    correlation = {}\n",
    "    correlation['Pearson\\'s r'] = []\n",
    "    correlation['Spearman\\'s rho'] = []\n",
    "    correlation['Kendall\\'s tau'] = []\n",
    "\n",
    "    for FOLD in range(FOLDS):\n",
    "        import json\n",
    "        with open(os.path.join(DATA_PATH,'fold_'+str(FOLD), 'args.json'), 'r') as f:\n",
    "            args = json.load(f)\n",
    "        VALUE_COLUMNS = args['target_columns']\n",
    "        PRED_COLUMNS = [value+'_pred' for value in args['target_columns']]\n",
    "        \n",
    "        test_prediction = pd.read_csv(os.path.join(DATA_PATH,'fold_'+str(FOLD), FILENAME))\n",
    "        preds_0 = test_prediction[PRED_COLUMNS[0]]\n",
    "        preds_1 = test_prediction[PRED_COLUMNS[1]]\n",
    "        smiles = test_prediction[~test_prediction[VALUE_COLUMN].isna()][SMILES_COLUMN]\n",
    "        values = test_prediction[~test_prediction[VALUE_COLUMN].isna()][VALUE_COLUMN]\n",
    "\n",
    "\n",
    "        correlation['Pearson\\'s r'].append(preds_0.corr(preds_1))\n",
    "        correlation['Spearman\\'s rho'].append(preds_0.corr(preds_1, method='spearman'))\n",
    "        correlation['Kendall\\'s tau'].append(preds_0.corr(preds_1, method='kendall'))\n",
    "        \n",
    "for method in correlation.keys():\n",
    "    correlation_mean_std[method]['mean'] = np.mean(correlation[method])\n",
    "    correlation_mean_std[method]['std'] = np.std(correlation[method])\n",
    "    \n",
    "for method in correlation_mean_std.keys():\n",
    "    print(method, ' correlation = ', \\\n",
    "          round(correlation_mean_std[method]['mean'], 3)\\\n",
    "          ,'+/-',\\\n",
    "          round(correlation_mean_std[method]['std'], 3))"
   ]
  }
 ],
 "metadata": {
  "kernelspec": {
   "display_name": "Python 3",
   "language": "python",
   "name": "python3"
  }
 },
 "nbformat": 4,
 "nbformat_minor": 4
}
